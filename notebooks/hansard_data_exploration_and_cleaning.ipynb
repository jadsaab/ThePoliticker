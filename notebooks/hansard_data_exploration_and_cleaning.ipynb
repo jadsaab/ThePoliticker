{
 "cells": [
  {
   "cell_type": "markdown",
   "metadata": {},
   "source": [
    "# Hansard Data Exploration and Cleaning"
   ]
  },
  {
   "cell_type": "markdown",
   "metadata": {},
   "source": [
    "This notebook explores a subset of the Canadian Hansard parliamentary debate dataset available at https://www.lipad.ca/data/. The pandas dataframe contains combines CSV transcripts of Parliamentary sessions from January 2016 to June 2019, roughly the period following the last federal election."
   ]
  },
  {
   "cell_type": "code",
   "execution_count": 1,
   "metadata": {},
   "outputs": [],
   "source": [
    "# Import modules\n",
    "import pandas as pd\n",
    "import numpy as np\n",
    "from gensim.summarization.summarizer import summarize\n",
    "import matplotlib.pyplot as plt\n",
    "import re, math\n",
    "from collections import Counter\n",
    "import itertools\n",
    "import sys\n",
    "sys.path.append('../scripts/')\n",
    "import hansard_funcs as hf\n"
   ]
  },
  {
   "cell_type": "code",
   "execution_count": 2,
   "metadata": {},
   "outputs": [],
   "source": [
    "# Load the data\n",
    "df_original = pd.read_pickle('../../data/hansard.pkl') # Version to keep as-is for later use\n",
    "df = pd.read_pickle('../../data/hansard.pkl') # Version to be cleaned\n"
   ]
  },
  {
   "cell_type": "code",
   "execution_count": 38,
   "metadata": {},
   "outputs": [
    {
     "data": {
      "text/plain": [
       "127976"
      ]
     },
     "execution_count": 38,
     "metadata": {},
     "output_type": "execute_result"
    }
   ],
   "source": [
    "# Inspect available columns\n",
    "df.head(3)\n",
    "len(df)"
   ]
  },
  {
   "cell_type": "code",
   "execution_count": 4,
   "metadata": {},
   "outputs": [
    {
     "name": "stdout",
     "output_type": "stream",
     "text": [
      "Number of unique speakers: 534\n",
      "Number of unique speakers: 382\n",
      "Speakers with only one name listed (i.e. ambiguous cases):\n",
      "22982       Miller\n",
      "24266    Warkentin\n",
      "29504    MacKenzie\n",
      "40377     Eglinski\n",
      "45615     McCauley\n",
      "46342    MacKenzie\n",
      "Name: speakername, dtype: object\n"
     ]
    }
   ],
   "source": [
    "# The rest of the notebook uses functions that are defined in ../scripts/hansard_funcs.py\n",
    "\n",
    "# How many unique speakers spoke during the debates?\n",
    "hf.get_num_unique_speakers(df)\n",
    "\n",
    "# Overwrite NaNs with spaces\n",
    "df['speakername'].fillna(' ', inplace=True)\n",
    "\n",
    "# Remove all information in speakername column that is not first or last name\n",
    "text_to_remove = ['^Hon.', 'Mr. ', 'Mrs. ', 'Ms. ', 'Miss. ', '\\s+\\(.+\\)', '^\\s+']\n",
    "df['speakername'] = df['speakername'].replace(text_to_remove, '', regex=True)\n",
    "\n",
    "# Remove additional anomalies\n",
    "df['speakername'] = df['speakername'].replace('\\s+\\(.+\\)*', '', regex=True) # Parantheses containing a speaker's riding and/or party\n",
    "df['speakername'] = df['speakername'].replace('The ', '', regex=True) # \n",
    "df['speakername'] = df['speakername'].replace('Speaker Speaker', 'Speaker', regex=True)\n",
    "df['speakername'] = df['speakername'].replace(['Soem', 'Som', 'Somee+'], 'Some', regex=True) # Typos in transcription of 'some'\n",
    "df['speakername'] = df['speakername'].replace('Hon\\s', 'Hon.', regex=True)\n",
    "df['speakername'] = df['speakername'].replace('hon\\s', 'hon.', regex=True)\n",
    "df['speakername'] = df['speakername'].replace('An hon. members', 'An hon. member', regex=True)\n",
    "df['speakername'] = df['speakername'].replace('^members$', 'Members', regex=True)\n",
    "\n",
    "# After additional cleaning, how many unique speakers spoke during the debates?\n",
    "hf.get_num_unique_speakers(df)\n",
    "\n",
    "# Check for rows that contain only one name\n",
    "is_single_word = df['speakername'].str.contains('^\\w[\\w]*$', regex=True)\n",
    "is_not_speaker = ~df['speakername'].str.contains('^Speaker$', regex=True)\n",
    "is_not_members = ~df['speakername'].str.contains('^Members$', regex=True)\n",
    "bool_ind = is_single_word & is_not_speaker & is_not_members\n",
    "standalone_names = df[\"speakername\"][bool_ind[bool_ind].index]\n",
    "print('Speakers with only one name listed (i.e. ambiguous cases):\\n%s'% standalone_names)\n",
    "\n",
    "# Store standalone names in python dict\n",
    "standalone_names_dict = standalone_names.to_dict()\n"
   ]
  },
  {
   "cell_type": "code",
   "execution_count": 5,
   "metadata": {},
   "outputs": [
    {
     "name": "stdout",
     "output_type": "stream",
     "text": [
      "\n",
      "Inspecting row 22982:\n",
      "basepk                                                   4.68097e+06\n",
      "hid                                    ca.proc.d.2016-09-27.p4477043\n",
      "speechdate                                                2016-09-27\n",
      "pid                                                              NaN\n",
      "opid                                                             NaN\n",
      "speakeroldname                                                   NaN\n",
      "speakerposition                                                  NaN\n",
      "maintopic                                        Routine Proceedings\n",
      "subtopic                                Questions on the Order Paper\n",
      "subsubtopic                                         Question No. 258\n",
      "speechtext          With regard to relocation costs for exempt st...\n",
      "speakerparty                                                     NaN\n",
      "speakerriding                                                    NaN\n",
      "speakername                       Mr. Miller (Bruce—Grey—Owen Sound)\n",
      "speakerurl                                                       NaN\n",
      "Unnamed: 0                                                       NaN\n",
      "Name: 22982, dtype: object\n",
      "\n"
     ]
    }
   ],
   "source": [
    "# Inspect row with standalone 'Miller' in original dataframe\n",
    "key = hf.get_key_from_value(standalone_names_dict, 'Miller')\n",
    "hf.inspect_row(df_original, key)\n"
   ]
  },
  {
   "cell_type": "code",
   "execution_count": 6,
   "metadata": {},
   "outputs": [
    {
     "name": "stdout",
     "output_type": "stream",
     "text": [
      "\n",
      "Unique occurences of Miller:\n",
      "['Larry Miller' 'Marc Miller' 'Miller']\n",
      "\n"
     ]
    }
   ],
   "source": [
    "# Show all related names\n",
    "hf.show_names_containing(df, 'Miller')\n"
   ]
  },
  {
   "cell_type": "code",
   "execution_count": 7,
   "metadata": {},
   "outputs": [
    {
     "name": "stdout",
     "output_type": "stream",
     "text": [
      "\n",
      "Inspecting speaker Larry Miller:\n",
      "           basepk                             hid  speechdate  \\\n",
      "3893    4652499.0   ca.proc.d.2016-02-22.17093.56  2016-02-22   \n",
      "3895    4652501.0   ca.proc.d.2016-02-22.17093.58  2016-02-22   \n",
      "3897    4652503.0   ca.proc.d.2016-02-22.17093.60  2016-02-22   \n",
      "3899    4652505.0   ca.proc.d.2016-02-22.17093.62  2016-02-22   \n",
      "3939    4652545.0  ca.proc.d.2016-02-22.17093.102  2016-02-22   \n",
      "...           ...                             ...         ...   \n",
      "116692  4775053.0   ca.proc.d.2019-04-09.10562537  2019-04-09   \n",
      "123922  4782287.0   ca.proc.d.2019-06-04.10676419  2019-06-04   \n",
      "124054  4782419.0   ca.proc.d.2019-06-04.10677224  2019-06-04   \n",
      "124059  4782424.0   ca.proc.d.2019-06-04.10677443  2019-06-04   \n",
      "124835  4783200.0   ca.proc.d.2019-06-06.10686706  2019-06-06   \n",
      "\n",
      "                                         pid      opid  \\\n",
      "3893    d5a197ec-6694-4a63-b918-f7c55df7b7c2     202.0   \n",
      "3895    d5a197ec-6694-4a63-b918-f7c55df7b7c2     202.0   \n",
      "3897    d5a197ec-6694-4a63-b918-f7c55df7b7c2     202.0   \n",
      "3899    d5a197ec-6694-4a63-b918-f7c55df7b7c2     202.0   \n",
      "3939    d5a197ec-6694-4a63-b918-f7c55df7b7c2     202.0   \n",
      "...                                      ...       ...   \n",
      "116692  d5a197ec-6694-4a63-b918-f7c55df7b7c2  234409.0   \n",
      "123922  d5a197ec-6694-4a63-b918-f7c55df7b7c2  234409.0   \n",
      "124054  d5a197ec-6694-4a63-b918-f7c55df7b7c2  234409.0   \n",
      "124059  d5a197ec-6694-4a63-b918-f7c55df7b7c2  234409.0   \n",
      "124835  d5a197ec-6694-4a63-b918-f7c55df7b7c2  234409.0   \n",
      "\n",
      "                                       speakeroldname speakerposition  \\\n",
      "3893    Mr. Larry Miller (Bruce—Grey—Owen Sound, CPC)             NaN   \n",
      "3895                                 Mr. Larry Miller    Interjection   \n",
      "3897                                 Mr. Larry Miller    Interjection   \n",
      "3899                                 Mr. Larry Miller    Interjection   \n",
      "3939    Mr. Larry Miller (Bruce—Grey—Owen Sound, CPC)             NaN   \n",
      "...                                               ...             ...   \n",
      "116692  Mr. Larry Miller (Bruce—Grey—Owen Sound, CPC)             NaN   \n",
      "123922  Mr. Larry Miller (Bruce—Grey—Owen Sound, CPC)             NaN   \n",
      "124054  Mr. Larry Miller (Bruce—Grey—Owen Sound, CPC)             NaN   \n",
      "124059                               Mr. Larry Miller             NaN   \n",
      "124835                               Mr. Larry Miller             NaN   \n",
      "\n",
      "                    maintopic  \\\n",
      "3893        Government Orders   \n",
      "3895        Government Orders   \n",
      "3897        Government Orders   \n",
      "3899        Government Orders   \n",
      "3939    Statements By Members   \n",
      "...                       ...   \n",
      "116692    Routine Proceedings   \n",
      "123922  Statements By Members   \n",
      "124054      Government Orders   \n",
      "124059      Government Orders   \n",
      "124835      Government Orders   \n",
      "\n",
      "                                                 subtopic subsubtopic  \\\n",
      "3893    Canada's Contribution to the Effort to Combat ...         NaN   \n",
      "3895    Canada's Contribution to the Effort to Combat ...         NaN   \n",
      "3897    Canada's Contribution to the Effort to Combat ...         NaN   \n",
      "3899    Canada's Contribution to the Effort to Combat ...         NaN   \n",
      "3939                          The Liberal Party of Canada         NaN   \n",
      "...                                                   ...         ...   \n",
      "116692                                          Petitions     Privacy   \n",
      "123922                                           Veterans         NaN   \n",
      "124054             Budget Implementation Act, 2019, No. 1         NaN   \n",
      "124059             Budget Implementation Act, 2019, No. 1         NaN   \n",
      "124835             Budget Implementation Act, 2019, No. 1         NaN   \n",
      "\n",
      "                                               speechtext  speakerparty  \\\n",
      "3893    Mr. Speaker, it is a pleasure to be in the Hou...  Conservative   \n",
      "3895    Mr. Speaker, what we are debating today is the...  Conservative   \n",
      "3897    Mr. Speaker, I am quite aware that the number ...  Conservative   \n",
      "3899    Mr. Speaker, the hon. member definitely has a ...  Conservative   \n",
      "3939    Mr. Speaker, it would appear as though the sun...  Conservative   \n",
      "...                                                   ...           ...   \n",
      "116692  Mr. Speaker, I have the pleasure of tabling pe...  Conservative   \n",
      "123922  Mr. Speaker, today I pay tribute to two amazin...  Conservative   \n",
      "124054  Mr. Speaker, I rise on this bittersweet day to...  Conservative   \n",
      "124059  Mr. Speaker, for the member for Sydney—Victori...  Conservative   \n",
      "124835  Mr. Speaker, I rise on a point of order. I am ...  Conservative   \n",
      "\n",
      "                  speakerriding   speakername  \\\n",
      "3893    Bruce--Grey--Owen Sound  Larry Miller   \n",
      "3895    Bruce--Grey--Owen Sound  Larry Miller   \n",
      "3897    Bruce--Grey--Owen Sound  Larry Miller   \n",
      "3899    Bruce--Grey--Owen Sound  Larry Miller   \n",
      "3939    Bruce--Grey--Owen Sound  Larry Miller   \n",
      "...                         ...           ...   \n",
      "116692    Bruce—Grey—Owen Sound  Larry Miller   \n",
      "123922    Bruce—Grey—Owen Sound  Larry Miller   \n",
      "124054    Bruce—Grey—Owen Sound  Larry Miller   \n",
      "124059    Bruce—Grey—Owen Sound  Larry Miller   \n",
      "124835    Bruce—Grey—Owen Sound  Larry Miller   \n",
      "\n",
      "                                               speakerurl Unnamed: 0  \n",
      "3893    http://www.parl.gc.ca/parlinfo/Files/Parliamen...        NaN  \n",
      "3895    http://www.parl.gc.ca/parlinfo/Files/Parliamen...        NaN  \n",
      "3897    http://www.parl.gc.ca/parlinfo/Files/Parliamen...        NaN  \n",
      "3899    http://www.parl.gc.ca/parlinfo/Files/Parliamen...        NaN  \n",
      "3939    http://www.parl.gc.ca/parlinfo/Files/Parliamen...        NaN  \n",
      "...                                                   ...        ...  \n",
      "116692  http://www.parl.gc.ca/Parliamentarians/en/memb...        NaN  \n",
      "123922  http://www.parl.gc.ca/Parliamentarians/en/memb...        NaN  \n",
      "124054  http://www.parl.gc.ca/Parliamentarians/en/memb...        NaN  \n",
      "124059  http://www.parl.gc.ca/Parliamentarians/en/memb...        NaN  \n",
      "124835  http://www.parl.gc.ca/Parliamentarians/en/memb...        NaN  \n",
      "\n",
      "[154 rows x 16 columns]\n",
      "\n"
     ]
    }
   ],
   "source": [
    "# Raw data shows standalone Miller's riding is Bruce-Grey-Owen-Sound - cross-reference with other Millers\n",
    "# Check entries for Larry Miller\n",
    "hf.inspect_speaker(df, 'Larry Miller')\n"
   ]
  },
  {
   "cell_type": "code",
   "execution_count": 8,
   "metadata": {},
   "outputs": [
    {
     "name": "stdout",
     "output_type": "stream",
     "text": [
      "Row after overwriting Miller with Larry Miller:\n",
      "basepk                                                   4.68097e+06\n",
      "hid                                    ca.proc.d.2016-09-27.p4477043\n",
      "speechdate                                                2016-09-27\n",
      "pid                                                              NaN\n",
      "opid                                                             NaN\n",
      "speakeroldname                                                   NaN\n",
      "speakerposition                                                  NaN\n",
      "maintopic                                        Routine Proceedings\n",
      "subtopic                                Questions on the Order Paper\n",
      "subsubtopic                                         Question No. 258\n",
      "speechtext          With regard to relocation costs for exempt st...\n",
      "speakerparty                                                     NaN\n",
      "speakerriding                                                    NaN\n",
      "speakername                                             Larry Miller\n",
      "speakerurl                                                       NaN\n",
      "Unnamed: 0                                                       NaN\n",
      "Name: 22982, dtype: object\n",
      "\n"
     ]
    }
   ],
   "source": [
    "# Larry Miller's riding is Bruce-Grey-Owen-Sound, same as standalone Miller\n",
    "hf.overwrite_speaker(df, 'Miller', 'Larry Miller', key)\n"
   ]
  },
  {
   "cell_type": "code",
   "execution_count": 9,
   "metadata": {},
   "outputs": [
    {
     "name": "stdout",
     "output_type": "stream",
     "text": [
      "\n",
      "Inspecting row 24266:\n",
      "basepk                               4.68225e+06\n",
      "hid                ca.proc.d.2016-10-04.p4499228\n",
      "speechdate                            2016-10-04\n",
      "pid                                          NaN\n",
      "opid                                         NaN\n",
      "speakeroldname                               NaN\n",
      "speakerposition                              NaN\n",
      "maintopic                         Oral Questions\n",
      "subtopic                      Indigenous Affairs\n",
      "subsubtopic                                  NaN\n",
      "speechtext                             Minister?\n",
      "speakerparty                                 NaN\n",
      "speakerriding                                NaN\n",
      "speakername                        Mr. Warkentin\n",
      "speakerurl                                   NaN\n",
      "Unnamed: 0                                   NaN\n",
      "Name: 24266, dtype: object\n",
      "\n"
     ]
    }
   ],
   "source": [
    "# Inspect row with standalone 'Warkentin' in original dataframe\n",
    "key = hf.get_key_from_value(standalone_names_dict, 'Warkentin')\n",
    "hf.inspect_row(df_original, key)\n"
   ]
  },
  {
   "cell_type": "code",
   "execution_count": 10,
   "metadata": {},
   "outputs": [
    {
     "name": "stdout",
     "output_type": "stream",
     "text": [
      "\n",
      "Unique occurences of Warkentin:\n",
      "['Chris Warkentin' 'Warkentin']\n",
      "\n"
     ]
    }
   ],
   "source": [
    "# Show all related names\n",
    "hf.show_names_containing(df, 'Warkentin')\n"
   ]
  },
  {
   "cell_type": "code",
   "execution_count": 11,
   "metadata": {},
   "outputs": [
    {
     "name": "stdout",
     "output_type": "stream",
     "text": [
      "\n",
      "Inspecting speaker Chris Warkentin:\n",
      "           basepk                             hid  speechdate  \\\n",
      "163     4648769.0  ca.proc.d.2016-01-25.17043.163  2016-01-25   \n",
      "544     4649150.0  ca.proc.d.2016-01-26.17045.196  2016-01-26   \n",
      "731     4649337.0   ca.proc.d.2016-01-27.17047.79  2016-01-27   \n",
      "733     4649339.0   ca.proc.d.2016-01-27.17047.81  2016-01-27   \n",
      "4924    4653530.0  ca.proc.d.2016-02-25.17111.213  2016-02-25   \n",
      "...           ...                             ...         ...   \n",
      "113518  4771879.0   ca.proc.d.2019-02-28.10515675  2019-02-28   \n",
      "114693  4773054.0   ca.proc.d.2019-03-19.10533669  2019-03-19   \n",
      "122373  4780737.0   ca.proc.d.2019-05-28.10655768  2019-05-28   \n",
      "126418  4784784.0   ca.proc.d.2019-06-14.10711226  2019-06-14   \n",
      "126515  4784881.0   ca.proc.d.2019-06-14.p5993465  2019-06-14   \n",
      "\n",
      "                                         pid      opid  \\\n",
      "163     ebbfc235-08c5-44f8-8c22-a60c671db398     461.0   \n",
      "544     ebbfc235-08c5-44f8-8c22-a60c671db398     461.0   \n",
      "731     ebbfc235-08c5-44f8-8c22-a60c671db398     461.0   \n",
      "733     ebbfc235-08c5-44f8-8c22-a60c671db398     461.0   \n",
      "4924    ebbfc235-08c5-44f8-8c22-a60c671db398     461.0   \n",
      "...                                      ...       ...   \n",
      "113518  ebbfc235-08c5-44f8-8c22-a60c671db398  218374.0   \n",
      "114693  ebbfc235-08c5-44f8-8c22-a60c671db398  218374.0   \n",
      "122373  ebbfc235-08c5-44f8-8c22-a60c671db398  218374.0   \n",
      "126418  ebbfc235-08c5-44f8-8c22-a60c671db398  218374.0   \n",
      "126515  ebbfc235-08c5-44f8-8c22-a60c671db398  218374.0   \n",
      "\n",
      "                                           speakeroldname speakerposition  \\\n",
      "163     Mr. Chris Warkentin (Grande Prairie—Mackenzie,...             NaN   \n",
      "544     Mr. Chris Warkentin (Grande Prairie—Mackenzie,...             NaN   \n",
      "731     Mr. Chris Warkentin (Grande Prairie—Mackenzie,...             NaN   \n",
      "733     Mr. Chris Warkentin (Grande Prairie—Mackenzie,...             NaN   \n",
      "4924    Mr. Chris Warkentin (Grande Prairie—Mackenzie,...             NaN   \n",
      "...                                                   ...             ...   \n",
      "113518  Mr. Chris Warkentin (Grande Prairie—Mackenzie,...             NaN   \n",
      "114693                                Mr. Chris Warkentin             NaN   \n",
      "122373  Mr. Chris Warkentin (Grande Prairie—Mackenzie,...             NaN   \n",
      "126418  Mr. Chris Warkentin (Grande Prairie—Mackenzie,...             NaN   \n",
      "126515                                Mr. Chris Warkentin             NaN   \n",
      "\n",
      "                    maintopic                                subtopic  \\\n",
      "163            Oral Questions               Agriculture and Agri-Food   \n",
      "544            Oral Questions                 Government Appointments   \n",
      "731            Oral Questions                 Government Appointments   \n",
      "733            Oral Questions                 Government Appointments   \n",
      "4924           Oral Questions                               Transport   \n",
      "...                       ...                                     ...   \n",
      "113518    Routine Proceedings                               Petitions   \n",
      "114693    Routine Proceedings                 Committees of the House   \n",
      "122373  Statements By Members                Grande Prairie—Mackenzie   \n",
      "126418         Oral Questions                       Natural Resources   \n",
      "126515    Routine Proceedings  Questions Passed as Orders for Returns   \n",
      "\n",
      "              subsubtopic                                         speechtext  \\\n",
      "163                   NaN  Mr. Speaker, by appointing Mary Jean McFall as...   \n",
      "544                   NaN  Mr. Speaker, there is one person in the House ...   \n",
      "731                   NaN  Mr. Speaker, I have a couple of questions for ...   \n",
      "733                   NaN  Mr. Speaker, I will take that as a no.\\nThe se...   \n",
      "4924                  NaN  Mr. Speaker, the Minister of Transport just st...   \n",
      "...                   ...                                                ...   \n",
      "113518  Natural Resources  Mr. Speaker, it is my privilege to stand today...   \n",
      "114693                NaN  Mr. Speaker, I want to clarify my vote. Had I ...   \n",
      "122373                NaN  Mr. Speaker, we all know that tough times can ...   \n",
      "126418                NaN  Mr. Speaker, it has been a tough week for Albe...   \n",
      "126515  Question No. 2443  With regard to “repayable” loans and contribut...   \n",
      "\n",
      "        speakerparty              speakerriding      speakername  \\\n",
      "163     Conservative  Grande Prairie--Mackenzie  Chris Warkentin   \n",
      "544     Conservative  Grande Prairie--Mackenzie  Chris Warkentin   \n",
      "731     Conservative  Grande Prairie--Mackenzie  Chris Warkentin   \n",
      "733     Conservative  Grande Prairie--Mackenzie  Chris Warkentin   \n",
      "4924    Conservative  Grande Prairie--Mackenzie  Chris Warkentin   \n",
      "...              ...                        ...              ...   \n",
      "113518  Conservative   Grande Prairie—Mackenzie  Chris Warkentin   \n",
      "114693  Conservative   Grande Prairie—Mackenzie  Chris Warkentin   \n",
      "122373  Conservative   Grande Prairie—Mackenzie  Chris Warkentin   \n",
      "126418  Conservative   Grande Prairie—Mackenzie  Chris Warkentin   \n",
      "126515  Conservative   Grande Prairie—Mackenzie  Chris Warkentin   \n",
      "\n",
      "                                               speakerurl Unnamed: 0  \n",
      "163     http://www.parl.gc.ca/parlinfo/Files/Parliamen...        NaN  \n",
      "544     http://www.parl.gc.ca/parlinfo/Files/Parliamen...        NaN  \n",
      "731     http://www.parl.gc.ca/parlinfo/Files/Parliamen...        NaN  \n",
      "733     http://www.parl.gc.ca/parlinfo/Files/Parliamen...        NaN  \n",
      "4924    http://www.parl.gc.ca/parlinfo/Files/Parliamen...        NaN  \n",
      "...                                                   ...        ...  \n",
      "113518  http://www.parl.gc.ca/Parliamentarians/en/memb...        NaN  \n",
      "114693  http://www.parl.gc.ca/Parliamentarians/en/memb...        NaN  \n",
      "122373  http://www.parl.gc.ca/Parliamentarians/en/memb...        NaN  \n",
      "126418  http://www.parl.gc.ca/Parliamentarians/en/memb...        NaN  \n",
      "126515  http://www.parl.gc.ca/Parliamentarians/en/memb...        NaN  \n",
      "\n",
      "[111 rows x 16 columns]\n",
      "\n"
     ]
    }
   ],
   "source": [
    "# Check entries for Chris Warkentin\n",
    "hf.inspect_speaker(df, 'Chris Warkentin')\n"
   ]
  },
  {
   "cell_type": "code",
   "execution_count": 12,
   "metadata": {},
   "outputs": [
    {
     "name": "stdout",
     "output_type": "stream",
     "text": [
      "Row after overwriting Warkentin with Chris Warkentin:\n",
      "basepk                               4.68225e+06\n",
      "hid                ca.proc.d.2016-10-04.p4499228\n",
      "speechdate                            2016-10-04\n",
      "pid                                          NaN\n",
      "opid                                         NaN\n",
      "speakeroldname                               NaN\n",
      "speakerposition                              NaN\n",
      "maintopic                         Oral Questions\n",
      "subtopic                      Indigenous Affairs\n",
      "subsubtopic                                  NaN\n",
      "speechtext                             Minister?\n",
      "speakerparty                                 NaN\n",
      "speakerriding                                NaN\n",
      "speakername                      Chris Warkentin\n",
      "speakerurl                                   NaN\n",
      "Unnamed: 0                                   NaN\n",
      "Name: 24266, dtype: object\n",
      "\n"
     ]
    }
   ],
   "source": [
    "# Standalone Warkentin seems to be Chris Warkentin\n",
    "hf.overwrite_speaker(df, 'Warkentin', 'Chris Warkentin', key)\n"
   ]
  },
  {
   "cell_type": "code",
   "execution_count": 13,
   "metadata": {},
   "outputs": [
    {
     "name": "stdout",
     "output_type": "stream",
     "text": [
      "\n",
      "Inspecting row 29504:\n",
      "basepk                                                   4.68729e+06\n",
      "hid                                    ca.proc.d.2016-11-04.p4610244\n",
      "speechdate                                                2016-11-04\n",
      "pid                                                              NaN\n",
      "opid                                                             NaN\n",
      "speakeroldname                                                   NaN\n",
      "speakerposition                                                  NaN\n",
      "maintopic                                        Routine Proceedings\n",
      "subtopic                                Questions on the Order Paper\n",
      "subsubtopic                                         Question No. 476\n",
      "speechtext          With regard to the government’s decision to j...\n",
      "speakerparty                                                     NaN\n",
      "speakerriding                                                    NaN\n",
      "speakername                                   Mr. MacKenzie (Oxford)\n",
      "speakerurl                                                       NaN\n",
      "Unnamed: 0                                                       NaN\n",
      "Name: 29504, dtype: object\n",
      "\n",
      "\n",
      "Inspecting row 46342:\n",
      "basepk                                                   4.70469e+06\n",
      "hid                                    ca.proc.d.2017-04-06.p4826590\n",
      "speechdate                                                2017-04-06\n",
      "pid                                                              NaN\n",
      "opid                                                             NaN\n",
      "speakeroldname                                                   NaN\n",
      "speakerposition                                                  NaN\n",
      "maintopic                                        Routine Proceedings\n",
      "subtopic                      Questions Passed as Orders for Returns\n",
      "subsubtopic                                         Question No. 884\n",
      "speechtext          With regard to materials prepared regarding B...\n",
      "speakerparty                                                     NaN\n",
      "speakerriding                                                    NaN\n",
      "speakername                                   Mr. MacKenzie (Oxford)\n",
      "speakerurl                                                       NaN\n",
      "Unnamed: 0                                                       NaN\n",
      "Name: 46342, dtype: object\n",
      "\n"
     ]
    }
   ],
   "source": [
    "# Inspect row with standalone 'MacKenzie' in original dataframe\n",
    "key = hf.get_key_from_value(standalone_names_dict, 'MacKenzie')\n",
    "hf.inspect_row(df_original, key)\n"
   ]
  },
  {
   "cell_type": "code",
   "execution_count": 14,
   "metadata": {},
   "outputs": [
    {
     "name": "stdout",
     "output_type": "stream",
     "text": [
      "\n",
      "Unique occurences of MacKenzie:\n",
      "['Dave MacKenzie' 'MacKenzie']\n",
      "\n"
     ]
    }
   ],
   "source": [
    "# Show all related names\n",
    "hf.show_names_containing(df, 'MacKenzie')\n"
   ]
  },
  {
   "cell_type": "code",
   "execution_count": 15,
   "metadata": {},
   "outputs": [
    {
     "name": "stdout",
     "output_type": "stream",
     "text": [
      "\n",
      "Inspecting speaker Dave MacKenzie:\n",
      "           basepk                             hid  speechdate  \\\n",
      "5571    4654177.0  ca.proc.d.2016-03-07.17151.290  2016-03-07   \n",
      "5573    4654179.0  ca.proc.d.2016-03-07.17151.292  2016-03-07   \n",
      "8908    4657514.0  ca.proc.d.2016-04-14.17222.121  2016-04-14   \n",
      "21199   4679501.0   ca.proc.d.2016-09-19.p4466947  2016-09-19   \n",
      "23179   4681165.0    ca.proc.d.2016-09-28.9082584  2016-09-28   \n",
      "...           ...                             ...         ...   \n",
      "111812  4770173.0   ca.proc.d.2019-02-19.10491338  2019-02-19   \n",
      "116712  4775073.0   ca.proc.d.2019-04-09.p5854978  2019-04-09   \n",
      "119657  4778018.0   ca.proc.d.2019-05-06.10600456  2019-05-06   \n",
      "126504  4784870.0   ca.proc.d.2019-06-14.p5993454  2019-06-14   \n",
      "126828  4785194.0   ca.proc.d.2019-06-17.p5996853  2019-06-17   \n",
      "\n",
      "                                         pid      opid  \\\n",
      "5571    f16cf9dc-8300-44a4-8a4e-22df5fec17c8     178.0   \n",
      "5573    f16cf9dc-8300-44a4-8a4e-22df5fec17c8     178.0   \n",
      "8908    f16cf9dc-8300-44a4-8a4e-22df5fec17c8     178.0   \n",
      "21199   f16cf9dc-8300-44a4-8a4e-22df5fec17c8  214133.0   \n",
      "23179   f16cf9dc-8300-44a4-8a4e-22df5fec17c8  214133.0   \n",
      "...                                      ...       ...   \n",
      "111812  f16cf9dc-8300-44a4-8a4e-22df5fec17c8  237027.0   \n",
      "116712  f16cf9dc-8300-44a4-8a4e-22df5fec17c8  237027.0   \n",
      "119657  f16cf9dc-8300-44a4-8a4e-22df5fec17c8  237027.0   \n",
      "126504  f16cf9dc-8300-44a4-8a4e-22df5fec17c8  237027.0   \n",
      "126828  f16cf9dc-8300-44a4-8a4e-22df5fec17c8  237027.0   \n",
      "\n",
      "                          speakeroldname speakerposition  \\\n",
      "5571    Mr. Dave MacKenzie (Oxford, CPC)             NaN   \n",
      "5573                  Mr. Dave MacKenzie    Interjection   \n",
      "8908    Mr. Dave MacKenzie (Oxford, CPC)             NaN   \n",
      "21199                 Mr. Dave MacKenzie             NaN   \n",
      "23179   Mr. Dave MacKenzie (Oxford, CPC)             NaN   \n",
      "...                                  ...             ...   \n",
      "111812                Mr. Dave MacKenzie             NaN   \n",
      "116712                Mr. Dave MacKenzie             NaN   \n",
      "119657  Mr. Dave MacKenzie (Oxford, CPC)             NaN   \n",
      "126504                Mr. Dave MacKenzie             NaN   \n",
      "126828                Mr. Dave MacKenzie             NaN   \n",
      "\n",
      "                    maintopic                                subtopic  \\\n",
      "5571        Government Orders                          Income Tax Act   \n",
      "5573        Government Orders                          Income Tax Act   \n",
      "8908    Statements By Members                         Patrick Sobeski   \n",
      "21199     Routine Proceedings  Questions Passed as Orders for Returns   \n",
      "23179     Routine Proceedings                               Petitions   \n",
      "...                       ...                                     ...   \n",
      "111812      Government Orders                      Business of Supply   \n",
      "116712    Routine Proceedings            Questions on the Order Paper   \n",
      "119657    Routine Proceedings                               Petitions   \n",
      "126504    Routine Proceedings            Questions on the Order Paper   \n",
      "126828    Routine Proceedings  Questions Passed as Orders for Returns   \n",
      "\n",
      "                                              subsubtopic  \\\n",
      "5571                                                  NaN   \n",
      "5573                                                  NaN   \n",
      "8908                                                  NaN   \n",
      "21199                                    Question No. 266   \n",
      "23179                                          Falun Gong   \n",
      "...                                                   ...   \n",
      "111812  Opposition Motion—Transparency and Accountability   \n",
      "116712                                  Question No. 2252   \n",
      "119657                                    Palliative Care   \n",
      "126504                                  Question No. 2452   \n",
      "126828                                  Question No. 2467   \n",
      "\n",
      "                                               speechtext  speakerparty  \\\n",
      "5571    Mr. Speaker, this is an interesting time, when...  Conservative   \n",
      "5573    Mr. Speaker, there is no difference. When the ...  Conservative   \n",
      "8908    Mr. Speaker, I rise today to pay tribute to Pa...  Conservative   \n",
      "21199    With regard to existing or planned government...  Conservative   \n",
      "23179   Mr. Speaker, I wish to present a petition from...  Conservative   \n",
      "...                                                   ...           ...   \n",
      "111812  Madam Speaker, I think my colleague is absolut...  Conservative   \n",
      "116712  With regard to income tax revenues: (a) what i...  Conservative   \n",
      "119657  Mr. Speaker, I have the honour to present a pe...  Conservative   \n",
      "126504  With regard to the federal carbon tax and the ...  Conservative   \n",
      "126828  With regard to all government contracts awarde...  Conservative   \n",
      "\n",
      "       speakerriding     speakername  \\\n",
      "5571          Oxford  Dave MacKenzie   \n",
      "5573          Oxford  Dave MacKenzie   \n",
      "8908          Oxford  Dave MacKenzie   \n",
      "21199         Oxford  Dave MacKenzie   \n",
      "23179         Oxford  Dave MacKenzie   \n",
      "...              ...             ...   \n",
      "111812        Oxford  Dave MacKenzie   \n",
      "116712        Oxford  Dave MacKenzie   \n",
      "119657        Oxford  Dave MacKenzie   \n",
      "126504        Oxford  Dave MacKenzie   \n",
      "126828        Oxford  Dave MacKenzie   \n",
      "\n",
      "                                               speakerurl Unnamed: 0  \n",
      "5571    http://www.parl.gc.ca/parlinfo/Files/Parliamen...        NaN  \n",
      "5573    http://www.parl.gc.ca/parlinfo/Files/Parliamen...        NaN  \n",
      "8908    http://www.parl.gc.ca/parlinfo/Files/Parliamen...        NaN  \n",
      "21199   http://www.parl.gc.ca/MembersOfParliament/Prof...        NaN  \n",
      "23179   http://www.parl.gc.ca/MembersOfParliament/Prof...        NaN  \n",
      "...                                                   ...        ...  \n",
      "111812  http://www.parl.gc.ca/Parliamentarians/en/memb...        NaN  \n",
      "116712  http://www.parl.gc.ca/Parliamentarians/en/memb...        NaN  \n",
      "119657  http://www.parl.gc.ca/Parliamentarians/en/memb...        NaN  \n",
      "126504  http://www.parl.gc.ca/Parliamentarians/en/memb...        NaN  \n",
      "126828  http://www.parl.gc.ca/Parliamentarians/en/memb...        NaN  \n",
      "\n",
      "[78 rows x 16 columns]\n",
      "\n"
     ]
    }
   ],
   "source": [
    "# Check entries for Dave MacKenzie\n",
    "hf.inspect_speaker(df, 'Dave MacKenzie')\n"
   ]
  },
  {
   "cell_type": "code",
   "execution_count": 16,
   "metadata": {},
   "outputs": [
    {
     "name": "stdout",
     "output_type": "stream",
     "text": [
      "Row after overwriting MacKenzie with Dave MacKenzie:\n",
      "basepk                                                   4.68729e+06\n",
      "hid                                    ca.proc.d.2016-11-04.p4610244\n",
      "speechdate                                                2016-11-04\n",
      "pid                                                              NaN\n",
      "opid                                                             NaN\n",
      "speakeroldname                                                   NaN\n",
      "speakerposition                                                  NaN\n",
      "maintopic                                        Routine Proceedings\n",
      "subtopic                                Questions on the Order Paper\n",
      "subsubtopic                                         Question No. 476\n",
      "speechtext          With regard to the government’s decision to j...\n",
      "speakerparty                                                     NaN\n",
      "speakerriding                                                    NaN\n",
      "speakername                                           Dave MacKenzie\n",
      "speakerurl                                                       NaN\n",
      "Unnamed: 0                                                       NaN\n",
      "Name: 29504, dtype: object\n",
      "\n",
      "Row after overwriting MacKenzie with Dave MacKenzie:\n",
      "basepk                                                   4.70469e+06\n",
      "hid                                    ca.proc.d.2017-04-06.p4826590\n",
      "speechdate                                                2017-04-06\n",
      "pid                                                              NaN\n",
      "opid                                                             NaN\n",
      "speakeroldname                                                   NaN\n",
      "speakerposition                                                  NaN\n",
      "maintopic                                        Routine Proceedings\n",
      "subtopic                      Questions Passed as Orders for Returns\n",
      "subsubtopic                                         Question No. 884\n",
      "speechtext          With regard to materials prepared regarding B...\n",
      "speakerparty                                                     NaN\n",
      "speakerriding                                                    NaN\n",
      "speakername                                           Dave MacKenzie\n",
      "speakerurl                                                       NaN\n",
      "Unnamed: 0                                                       NaN\n",
      "Name: 46342, dtype: object\n",
      "\n"
     ]
    }
   ],
   "source": [
    "# Riding (Oxford) overlaps\n",
    "# Standalone MacKenzie seems to be Dave MacKenzie\n",
    "hf.overwrite_speaker(df, 'MacKenzie', 'Dave MacKenzie', key)\n"
   ]
  },
  {
   "cell_type": "code",
   "execution_count": 17,
   "metadata": {},
   "outputs": [
    {
     "name": "stdout",
     "output_type": "stream",
     "text": [
      "\n",
      "Inspecting row 40377:\n",
      "basepk                                                   4.69868e+06\n",
      "hid                                    ca.proc.d.2017-02-15.p4750367\n",
      "speechdate                                                2017-02-15\n",
      "pid                                                              NaN\n",
      "opid                                                             NaN\n",
      "speakeroldname                                                   NaN\n",
      "speakerposition                                                  NaN\n",
      "maintopic                                        Routine Proceedings\n",
      "subtopic                      Questions Passed as Orders for Returns\n",
      "subsubtopic                                         Question No. 827\n",
      "speechtext          With regard to the Prime Minister’s trip to C...\n",
      "speakerparty                                                     NaN\n",
      "speakerriding                                                    NaN\n",
      "speakername                                Mr. Eglinski (Yellowhead)\n",
      "speakerurl                                                       NaN\n",
      "Unnamed: 0                                                       NaN\n",
      "Name: 40377, dtype: object\n",
      "\n"
     ]
    }
   ],
   "source": [
    "# Inspect row with standalone 'Eglinski' in original dataframe\n",
    "key = hf.get_key_from_value(standalone_names_dict, 'Eglinski')\n",
    "hf.inspect_row(df_original, key)\n"
   ]
  },
  {
   "cell_type": "code",
   "execution_count": 18,
   "metadata": {},
   "outputs": [
    {
     "name": "stdout",
     "output_type": "stream",
     "text": [
      "\n",
      "Unique occurences of Eglinski:\n",
      "['Jim Eglinski' 'Eglinski']\n",
      "\n"
     ]
    }
   ],
   "source": [
    "# Show all related names\n",
    "hf.show_names_containing(df, 'Eglinski')\n"
   ]
  },
  {
   "cell_type": "code",
   "execution_count": 19,
   "metadata": {},
   "outputs": [
    {
     "name": "stdout",
     "output_type": "stream",
     "text": [
      "\n",
      "Inspecting speaker Jim Eglinski:\n",
      "           basepk                             hid  speechdate  \\\n",
      "203     4648809.0  ca.proc.d.2016-01-25.17043.203  2016-01-25   \n",
      "1208    4649814.0   ca.proc.d.2016-01-29.17049.21  2016-01-29   \n",
      "3884    4652490.0   ca.proc.d.2016-02-22.17093.47  2016-02-22   \n",
      "3886    4652492.0   ca.proc.d.2016-02-22.17093.49  2016-02-22   \n",
      "3888    4652494.0   ca.proc.d.2016-02-22.17093.51  2016-02-22   \n",
      "...           ...                             ...         ...   \n",
      "124580  4782945.0   ca.proc.d.2019-06-06.10682936  2019-06-06   \n",
      "124581  4782946.0   ca.proc.d.2019-06-06.10683289  2019-06-06   \n",
      "124845  4783210.0   ca.proc.d.2019-06-06.10686730  2019-06-06   \n",
      "124847  4783212.0   ca.proc.d.2019-06-06.10686778  2019-06-06   \n",
      "124849  4783214.0   ca.proc.d.2019-06-06.10686787  2019-06-06   \n",
      "\n",
      "                                         pid      opid  \\\n",
      "203     e849cb7a-82f0-49eb-aea4-573c06169a5d    9294.0   \n",
      "1208    e849cb7a-82f0-49eb-aea4-573c06169a5d    9294.0   \n",
      "3884    e849cb7a-82f0-49eb-aea4-573c06169a5d    9294.0   \n",
      "3886    e849cb7a-82f0-49eb-aea4-573c06169a5d    9294.0   \n",
      "3888    e849cb7a-82f0-49eb-aea4-573c06169a5d    9294.0   \n",
      "...                                      ...       ...   \n",
      "124580  e849cb7a-82f0-49eb-aea4-573c06169a5d  242458.0   \n",
      "124581  e849cb7a-82f0-49eb-aea4-573c06169a5d  242458.0   \n",
      "124845  e849cb7a-82f0-49eb-aea4-573c06169a5d  242458.0   \n",
      "124847  e849cb7a-82f0-49eb-aea4-573c06169a5d  242458.0   \n",
      "124849  e849cb7a-82f0-49eb-aea4-573c06169a5d  242458.0   \n",
      "\n",
      "                            speakeroldname speakerposition  \\\n",
      "203     Mr. Jim Eglinski (Yellowhead, CPC)             NaN   \n",
      "1208    Mr. Jim Eglinski (Yellowhead, CPC)             NaN   \n",
      "3884    Mr. Jim Eglinski (Yellowhead, CPC)             NaN   \n",
      "3886                      Mr. Jim Eglinski    Interjection   \n",
      "3888                      Mr. Jim Eglinski    Interjection   \n",
      "...                                    ...             ...   \n",
      "124580  Mr. Jim Eglinski (Yellowhead, CPC)             NaN   \n",
      "124581  Mr. Jim Eglinski (Yellowhead, CPC)             NaN   \n",
      "124845  Mr. Jim Eglinski (Yellowhead, CPC)             NaN   \n",
      "124847                    Mr. Jim Eglinski             NaN   \n",
      "124849                    Mr. Jim Eglinski             NaN   \n",
      "\n",
      "                    maintopic  \\\n",
      "203       Routine Proceedings   \n",
      "1208    Statements By Members   \n",
      "3884        Government Orders   \n",
      "3886        Government Orders   \n",
      "3888        Government Orders   \n",
      "...                       ...   \n",
      "124580    Routine Proceedings   \n",
      "124581    Routine Proceedings   \n",
      "124845      Government Orders   \n",
      "124847      Government Orders   \n",
      "124849      Government Orders   \n",
      "\n",
      "                                                 subtopic  \\\n",
      "203                                             Petitions   \n",
      "1208                                            The North   \n",
      "3884    Canada's Contribution to the Effort to Combat ...   \n",
      "3886    Canada's Contribution to the Effort to Combat ...   \n",
      "3888    Canada's Contribution to the Effort to Combat ...   \n",
      "...                                                   ...   \n",
      "124580                                          Petitions   \n",
      "124581                                          Petitions   \n",
      "124845                               Criminal Records Act   \n",
      "124847                               Criminal Records Act   \n",
      "124849                               Criminal Records Act   \n",
      "\n",
      "                        subsubtopic  \\\n",
      "203                Impaired Driving   \n",
      "1208                            NaN   \n",
      "3884                            NaN   \n",
      "3886                            NaN   \n",
      "3888                            NaN   \n",
      "...                             ...   \n",
      "124580      Human Organ Trafficking   \n",
      "124581  Afghan Minority Communities   \n",
      "124845                          NaN   \n",
      "124847                          NaN   \n",
      "124849                          NaN   \n",
      "\n",
      "                                               speechtext  speakerparty  \\\n",
      "203     Mr. Speaker, I am pleased to rise today to pre...  Conservative   \n",
      "1208    Mr. Speaker, as we count down to Canada's 150t...  Conservative   \n",
      "3884    Mr. Speaker, I am pleased to rise today on the...  Conservative   \n",
      "3886    Mr. Speaker, we agree that putting extra troop...  Conservative   \n",
      "3888    Mr. Speaker, when going into a foreign country...  Conservative   \n",
      "...                                                   ...           ...   \n",
      "124580  Mr. Speaker, I have two petitions to present t...  Conservative   \n",
      "124581  Mr. Speaker, the second petition is from petit...  Conservative   \n",
      "124845  Mr. Speaker, I rise in the House today to spea...  Conservative   \n",
      "124847  Madam Speaker, the Conservatives' stand was th...  Conservative   \n",
      "124849  Madam Speaker, I have mixed emotions. Expungem...  Conservative   \n",
      "\n",
      "       speakerriding   speakername  \\\n",
      "203       Yellowhead  Jim Eglinski   \n",
      "1208      Yellowhead  Jim Eglinski   \n",
      "3884      Yellowhead  Jim Eglinski   \n",
      "3886      Yellowhead  Jim Eglinski   \n",
      "3888      Yellowhead  Jim Eglinski   \n",
      "...              ...           ...   \n",
      "124580    Yellowhead  Jim Eglinski   \n",
      "124581    Yellowhead  Jim Eglinski   \n",
      "124845    Yellowhead  Jim Eglinski   \n",
      "124847    Yellowhead  Jim Eglinski   \n",
      "124849    Yellowhead  Jim Eglinski   \n",
      "\n",
      "                                               speakerurl Unnamed: 0  \n",
      "203                                                   NaN        NaN  \n",
      "1208                                                  NaN        NaN  \n",
      "3884                                                  NaN        NaN  \n",
      "3886                                                  NaN        NaN  \n",
      "3888                                                  NaN        NaN  \n",
      "...                                                   ...        ...  \n",
      "124580  http://www.parl.gc.ca/Parliamentarians/en/memb...        NaN  \n",
      "124581  http://www.parl.gc.ca/Parliamentarians/en/memb...        NaN  \n",
      "124845  http://www.parl.gc.ca/Parliamentarians/en/memb...        NaN  \n",
      "124847  http://www.parl.gc.ca/Parliamentarians/en/memb...        NaN  \n",
      "124849  http://www.parl.gc.ca/Parliamentarians/en/memb...        NaN  \n",
      "\n",
      "[309 rows x 16 columns]\n",
      "\n"
     ]
    }
   ],
   "source": [
    "# Check entries for Jim Eglinski\n",
    "hf.inspect_speaker(df, 'Jim Eglinski')\n"
   ]
  },
  {
   "cell_type": "code",
   "execution_count": 20,
   "metadata": {},
   "outputs": [
    {
     "name": "stdout",
     "output_type": "stream",
     "text": [
      "Row after overwriting Eglinski with Jim Eglinski:\n",
      "basepk                                                   4.69868e+06\n",
      "hid                                    ca.proc.d.2017-02-15.p4750367\n",
      "speechdate                                                2017-02-15\n",
      "pid                                                              NaN\n",
      "opid                                                             NaN\n",
      "speakeroldname                                                   NaN\n",
      "speakerposition                                                  NaN\n",
      "maintopic                                        Routine Proceedings\n",
      "subtopic                      Questions Passed as Orders for Returns\n",
      "subsubtopic                                         Question No. 827\n",
      "speechtext          With regard to the Prime Minister’s trip to C...\n",
      "speakerparty                                                     NaN\n",
      "speakerriding                                                    NaN\n",
      "speakername                                             Jim Eglinski\n",
      "speakerurl                                                       NaN\n",
      "Unnamed: 0                                                       NaN\n",
      "Name: 40377, dtype: object\n",
      "\n"
     ]
    }
   ],
   "source": [
    "# Riding (Yellowhead) overlaps\n",
    "# Standalone Eglinski seems to be Jim Eglinski\n",
    "hf.overwrite_speaker(df, 'Eglinski', 'Jim Eglinski', key)\n"
   ]
  },
  {
   "cell_type": "code",
   "execution_count": 21,
   "metadata": {},
   "outputs": [
    {
     "name": "stdout",
     "output_type": "stream",
     "text": [
      "\n",
      "Inspecting row 45615:\n",
      "basepk                                                   4.70397e+06\n",
      "hid                                    ca.proc.d.2017-04-03.p4823722\n",
      "speechdate                                                2017-04-03\n",
      "pid                                                              NaN\n",
      "opid                                                             NaN\n",
      "speakeroldname                                                   NaN\n",
      "speakerposition                                                  NaN\n",
      "maintopic                                        Routine Proceedings\n",
      "subtopic                       Questions Passed as Orders for Return\n",
      "subsubtopic                                         Question No. 843\n",
      "speechtext          With regard to public service training for th...\n",
      "speakerparty                                                     NaN\n",
      "speakerriding                                                    NaN\n",
      "speakername                             Mr. McCauley (Edmonton West)\n",
      "speakerurl                                                       NaN\n",
      "Unnamed: 0                                                       NaN\n",
      "Name: 45615, dtype: object\n",
      "\n"
     ]
    }
   ],
   "source": [
    "# Inspect row with standalone 'McCauley' in original dataframe\n",
    "key = hf.get_key_from_value(standalone_names_dict, 'McCauley')\n",
    "hf.inspect_row(df_original, key)\n"
   ]
  },
  {
   "cell_type": "code",
   "execution_count": 22,
   "metadata": {},
   "outputs": [
    {
     "name": "stdout",
     "output_type": "stream",
     "text": [
      "\n",
      "Unique occurences of McCauley:\n",
      "['Kelly McCauley' 'McCauley']\n",
      "\n"
     ]
    }
   ],
   "source": [
    "# Show all related names\n",
    "hf.show_names_containing(df, 'McCauley')\n"
   ]
  },
  {
   "cell_type": "code",
   "execution_count": 23,
   "metadata": {},
   "outputs": [
    {
     "name": "stdout",
     "output_type": "stream",
     "text": [
      "\n",
      "Inspecting speaker Kelly McCauley:\n",
      "           basepk                             hid  speechdate  \\\n",
      "789     4649395.0  ca.proc.d.2016-01-27.17047.137  2016-01-27   \n",
      "791     4649397.0  ca.proc.d.2016-01-27.17047.139  2016-01-27   \n",
      "793     4649399.0  ca.proc.d.2016-01-27.17047.141  2016-01-27   \n",
      "795     4649401.0  ca.proc.d.2016-01-27.17047.143  2016-01-27   \n",
      "962     4649568.0   ca.proc.d.2016-01-28.17048.95  2016-01-28   \n",
      "...           ...                             ...         ...   \n",
      "126208  4784574.0   ca.proc.d.2019-06-13.10710203  2019-06-13   \n",
      "126772  4785138.0   ca.proc.d.2019-06-17.10712742  2019-06-17   \n",
      "127529  4785895.0   ca.proc.d.2019-06-18.10718169  2019-06-18   \n",
      "127603  4785969.0   ca.proc.d.2019-06-18.10718356  2019-06-18   \n",
      "127649  4786015.0   ca.proc.d.2019-06-18.10718443  2019-06-18   \n",
      "\n",
      "                                         pid      opid  \\\n",
      "789     62c4052f-dd41-418a-9b5b-1715c0baa84d    9445.0   \n",
      "791     62c4052f-dd41-418a-9b5b-1715c0baa84d    9445.0   \n",
      "793     62c4052f-dd41-418a-9b5b-1715c0baa84d    9445.0   \n",
      "795     62c4052f-dd41-418a-9b5b-1715c0baa84d    9445.0   \n",
      "962     62c4052f-dd41-418a-9b5b-1715c0baa84d    9445.0   \n",
      "...                                      ...       ...   \n",
      "126208  62c4052f-dd41-418a-9b5b-1715c0baa84d  218322.0   \n",
      "126772  62c4052f-dd41-418a-9b5b-1715c0baa84d  218322.0   \n",
      "127529  62c4052f-dd41-418a-9b5b-1715c0baa84d  218322.0   \n",
      "127603  62c4052f-dd41-418a-9b5b-1715c0baa84d  218322.0   \n",
      "127649  62c4052f-dd41-418a-9b5b-1715c0baa84d  218322.0   \n",
      "\n",
      "                                 speakeroldname speakerposition  \\\n",
      "789     Mr. Kelly McCauley (Edmonton West, CPC)             NaN   \n",
      "791                          Mr. Kelly McCauley    Interjection   \n",
      "793                          Mr. Kelly McCauley    Interjection   \n",
      "795                          Mr. Kelly McCauley    Interjection   \n",
      "962     Mr. Kelly McCauley (Edmonton West, CPC)             NaN   \n",
      "...                                         ...             ...   \n",
      "126208  Mr. Kelly McCauley (Edmonton West, CPC)             NaN   \n",
      "126772  Mr. Kelly McCauley (Edmonton West, CPC)             NaN   \n",
      "127529  Mr. Kelly McCauley (Edmonton West, CPC)             NaN   \n",
      "127603  Mr. Kelly McCauley (Edmonton West, CPC)             NaN   \n",
      "127649  Mr. Kelly McCauley (Edmonton West, CPC)             NaN   \n",
      "\n",
      "                     maintopic  \\\n",
      "789     Speech from the Throne   \n",
      "791     Speech from the Throne   \n",
      "793     Speech from the Throne   \n",
      "795     Speech from the Throne   \n",
      "962          Government Orders   \n",
      "...                        ...   \n",
      "126208       Government Orders   \n",
      "126772     Routine Proceedings   \n",
      "127529       Government Orders   \n",
      "127603       Government Orders   \n",
      "127649       Government Orders   \n",
      "\n",
      "                                                 subtopic  \\\n",
      "789              Resumption of debate on Address in Reply   \n",
      "791              Resumption of debate on Address in Reply   \n",
      "793              Resumption of debate on Address in Reply   \n",
      "795              Resumption of debate on Address in Reply   \n",
      "962                                    Business of Supply   \n",
      "...                                                   ...   \n",
      "126208                          Access to Information Act   \n",
      "126772                            Committees of the House   \n",
      "127529                          Oil Tanker Moratorium Act   \n",
      "127603  Canada-United States-Mexico Agreement Implemen...   \n",
      "127649  Canada-United States-Mexico Agreement Implemen...   \n",
      "\n",
      "                                           subsubtopic  \\\n",
      "789                                                NaN   \n",
      "791                                                NaN   \n",
      "793                                                NaN   \n",
      "795                                                NaN   \n",
      "962     Opposition Motion—Energy East Pipeline Project   \n",
      "...                                                ...   \n",
      "126208                                             NaN   \n",
      "126772             Government Operations and Estimates   \n",
      "127529     Motion That Debate Be Not Further Adjourned   \n",
      "127603                                             NaN   \n",
      "127649                                             NaN   \n",
      "\n",
      "                                               speechtext  speakerparty  \\\n",
      "789     Mr. Speaker, congratulations on your appointme...  Conservative   \n",
      "791     Mr. Speaker, I will always follow Adam Smith, ...  Conservative   \n",
      "793     Mr. Speaker, there were quite a few things mis...  Conservative   \n",
      "795     Mr. Speaker, I have not seen anything from our...  Conservative   \n",
      "962     Mr. Speaker, I congratulate the member on his ...  Conservative   \n",
      "...                                                   ...           ...   \n",
      "126208  Mr. Speaker, I would like to thank my hon. col...  Conservative   \n",
      "126772  Mr. Speaker, the Conservatives are pleased to ...  Conservative   \n",
      "127529  Madam Speaker, this debate is nothing but a bl...  Conservative   \n",
      "127603  Madam Speaker, my colleague made a comment abo...  Conservative   \n",
      "127649  Mr. Speaker, I do not know how you could have ...  Conservative   \n",
      "\n",
      "        speakerriding     speakername  \\\n",
      "789     Edmonton West  Kelly McCauley   \n",
      "791     Edmonton West  Kelly McCauley   \n",
      "793     Edmonton West  Kelly McCauley   \n",
      "795     Edmonton West  Kelly McCauley   \n",
      "962     Edmonton West  Kelly McCauley   \n",
      "...               ...             ...   \n",
      "126208  Edmonton West  Kelly McCauley   \n",
      "126772  Edmonton West  Kelly McCauley   \n",
      "127529  Edmonton West  Kelly McCauley   \n",
      "127603  Edmonton West  Kelly McCauley   \n",
      "127649  Edmonton West  Kelly McCauley   \n",
      "\n",
      "                                               speakerurl Unnamed: 0  \n",
      "789                                                   NaN        NaN  \n",
      "791                                                   NaN        NaN  \n",
      "793                                                   NaN        NaN  \n",
      "795                                                   NaN        NaN  \n",
      "962                                                   NaN        NaN  \n",
      "...                                                   ...        ...  \n",
      "126208  http://www.parl.gc.ca/Parliamentarians/en/memb...        NaN  \n",
      "126772  http://www.parl.gc.ca/Parliamentarians/en/memb...        NaN  \n",
      "127529  http://www.parl.gc.ca/Parliamentarians/en/memb...        NaN  \n",
      "127603  http://www.parl.gc.ca/Parliamentarians/en/memb...        NaN  \n",
      "127649  http://www.parl.gc.ca/Parliamentarians/en/memb...        NaN  \n",
      "\n",
      "[529 rows x 16 columns]\n",
      "\n"
     ]
    }
   ],
   "source": [
    "# Check entries for Kelly McCauley\n",
    "hf.inspect_speaker(df, 'Kelly McCauley')\n"
   ]
  },
  {
   "cell_type": "code",
   "execution_count": 24,
   "metadata": {},
   "outputs": [
    {
     "name": "stdout",
     "output_type": "stream",
     "text": [
      "Row after overwriting McCauley with Kelly McCauley:\n",
      "basepk                                                   4.70397e+06\n",
      "hid                                    ca.proc.d.2017-04-03.p4823722\n",
      "speechdate                                                2017-04-03\n",
      "pid                                                              NaN\n",
      "opid                                                             NaN\n",
      "speakeroldname                                                   NaN\n",
      "speakerposition                                                  NaN\n",
      "maintopic                                        Routine Proceedings\n",
      "subtopic                       Questions Passed as Orders for Return\n",
      "subsubtopic                                         Question No. 843\n",
      "speechtext          With regard to public service training for th...\n",
      "speakerparty                                                     NaN\n",
      "speakerriding                                                    NaN\n",
      "speakername                                           Kelly McCauley\n",
      "speakerurl                                                       NaN\n",
      "Unnamed: 0                                                       NaN\n",
      "Name: 45615, dtype: object\n",
      "\n"
     ]
    }
   ],
   "source": [
    "# Riding (Edmonston West) overlaps\n",
    "# Standalone McCauley seems to be Kelly McCauley\n",
    "hf.overwrite_speaker(df, 'McCauley', 'Kelly McCauley', key)\n"
   ]
  },
  {
   "cell_type": "code",
   "execution_count": 25,
   "metadata": {},
   "outputs": [
    {
     "data": {
      "text/plain": [
       "array(['Some hon. members', 'Harjit S. Sajjan', 'An hon. member',\n",
       "       'Some hon.members', 'Some hon. member', 'An. hon. member',\n",
       "       'Don. Davies', 'John. Barlow', 'Some. hon. members'], dtype=object)"
      ]
     },
     "execution_count": 25,
     "metadata": {},
     "output_type": "execute_result"
    }
   ],
   "source": [
    "# Show speakers with periods in their names\n",
    "df[df['speakername'].str.contains('\\.', regex=True)]['speakername'].unique()\n"
   ]
  },
  {
   "cell_type": "code",
   "execution_count": 26,
   "metadata": {},
   "outputs": [
    {
     "name": "stdout",
     "output_type": "stream",
     "text": [
      "Row after overwriting Don. Davies with Don Davies:\n",
      "basepk                                        4.68794e+06\n",
      "hid                         ca.proc.d.2016-11-14.p4635200\n",
      "speechdate                                     2016-11-14\n",
      "pid                                                   NaN\n",
      "opid                                                  NaN\n",
      "speakeroldname                                        NaN\n",
      "speakerposition                                       NaN\n",
      "maintopic                               Government Orders\n",
      "subtopic           Budget Implementation Act, 2016, No. 2\n",
      "subsubtopic                                           NaN\n",
      "speechtext                        South Korea and Jordan.\n",
      "speakerparty                                          NaN\n",
      "speakerriding                                         NaN\n",
      "speakername                                    Don Davies\n",
      "speakerurl                                            NaN\n",
      "Unnamed: 0                                            NaN\n",
      "Name: 30159, dtype: object\n",
      "\n"
     ]
    }
   ],
   "source": [
    "# Merge speaker\n",
    "# Don. Davies -> Don Davies\n",
    "key = hf.get_key_from_value(df['speakername'], 'Don. Davies')\n",
    "df.loc[key]\n",
    "hf.overwrite_speaker(df, 'Don. Davies', 'Don Davies', key)\n"
   ]
  },
  {
   "cell_type": "code",
   "execution_count": 27,
   "metadata": {},
   "outputs": [
    {
     "name": "stdout",
     "output_type": "stream",
     "text": [
      "Row after overwriting John. Barlow with John Barlow:\n",
      "basepk                                                    4.7176e+06\n",
      "hid                                    ca.proc.d.2017-06-20.p4971431\n",
      "speechdate                                                2017-06-20\n",
      "pid                                                              NaN\n",
      "opid                                                             NaN\n",
      "speakeroldname                                                   NaN\n",
      "speakerposition                                                  NaN\n",
      "maintopic                                          Government Orders\n",
      "subtopic                                              Statistics Act\n",
      "subsubtopic                                                      NaN\n",
      "speechtext          You should change you talking points. You sho...\n",
      "speakerparty                                                     NaN\n",
      "speakerriding                                                    NaN\n",
      "speakername                                              John Barlow\n",
      "speakerurl                                                       NaN\n",
      "Unnamed: 0                                                       NaN\n",
      "Name: 59251, dtype: object\n",
      "\n"
     ]
    }
   ],
   "source": [
    "# Merge speaker\n",
    "# John. Barlow -> John Barlow\n",
    "key = hf.get_key_from_value(df['speakername'], 'John. Barlow')\n",
    "df.loc[key]\n",
    "hf.overwrite_speaker(df, 'John. Barlow', 'John Barlow', key)\n"
   ]
  },
  {
   "cell_type": "code",
   "execution_count": 28,
   "metadata": {},
   "outputs": [],
   "source": [
    "# Save to pkl file\n",
    "df.to_pickle('../../data/hansard_cleaned.pkl')"
   ]
  },
  {
   "cell_type": "code",
   "execution_count": 29,
   "metadata": {},
   "outputs": [],
   "source": [
    "# For upcoming plots, limit unique speakers to individuals\n",
    "unique_speakers = df.speakername.unique()\n",
    "exclude_list = [\n",
    "'',\n",
    "'Members',\n",
    "'Deputy Speaker',\n",
    "'Some hon. members',\n",
    "'Some hon.members',\n",
    "'Some hon. member',\n",
    "'An. hon. member',\n",
    "'Speaker?',\n",
    "'Some. hon. members',\n",
    "'Acting Deputy Speaker',\n",
    "'Acting Speaker'\n",
    "]\n",
    "unique_speakers = [x for x in unique_speakers if x not in exclude_list]\n"
   ]
  },
  {
   "cell_type": "code",
   "execution_count": 30,
   "metadata": {},
   "outputs": [],
   "source": [
    "# Count words per speech\n",
    "num_words = []\n",
    "for i in range(len(df['speechtext'])):\n",
    "    num_words.append(len(df['speechtext'][i].split(' ')))\n"
   ]
  },
  {
   "cell_type": "code",
   "execution_count": 31,
   "metadata": {},
   "outputs": [
    {
     "data": {
      "text/plain": [
       "(array([1.e-03, 1.e-01, 1.e+01, 1.e+03, 1.e+05, 1.e+07, 1.e+09]),\n",
       " <a list of 7 Text yticklabel objects>)"
      ]
     },
     "execution_count": 31,
     "metadata": {},
     "output_type": "execute_result"
    },
    {
     "data": {
      "image/png": "[encoded data removed]",
      "text/plain": [
       "<Figure size 432x288 with 1 Axes>"
      ]
     },
     "metadata": {
      "needs_background": "light"
     },
     "output_type": "display_data"
    }
   ],
   "source": [
    "# Plot histogram of speech lengths\n",
    "fontsize_major = 18\n",
    "fontsize_minor = 18\n",
    "fontname = 'Times New Roman'\n",
    "\n",
    "plt.hist(num_words, edgecolor = 'black', color='grey')\n",
    "plt.yscale('log', nonposy='clip')\n",
    "plt.xlabel('Number of words in speech', fontsize=fontsize_minor, fontname=fontname)\n",
    "plt.ylabel('Number of speeches', fontsize=fontsize_minor, fontname=fontname)\n",
    "plt.title('How long are speeches?', fontsize=fontsize_major, fontname=fontname)\n",
    "plt.tick_params(axis='both', which='major', labelsize=fontsize_minor)\n",
    "plt.xticks(fontname=fontname)\n",
    "plt.yticks(fontname=fontname)\n"
   ]
  },
  {
   "cell_type": "code",
   "execution_count": 32,
   "metadata": {},
   "outputs": [
    {
     "data": {
      "text/plain": [
       "[basepk                                                   4.76702e+06\n",
       " hid                                    ca.proc.d.2019-01-28.p5752334\n",
       " speechdate                                                2019-01-28\n",
       " pid                             b6850f16-57dc-486c-b5bb-0fd191022af4\n",
       " opid                                                          216935\n",
       " speakeroldname                                    Mr. Garnett Genuis\n",
       " speakerposition                                                  NaN\n",
       " maintopic                                          Government Orders\n",
       " subtopic                         Federal Sustainable Development Act\n",
       " subsubtopic                                                      NaN\n",
       " speechtext          It was Disraeli. Maybe Margaret Thatcher said...\n",
       " speakerparty                                            Conservative\n",
       " speakerriding                        Sherwood Park—Fort Saskatchewan\n",
       " speakername                                           Garnett Genuis\n",
       " speakerurl         http://www.parl.gc.ca/Parliamentarians/en/memb...\n",
       " Unnamed: 0                                                       NaN\n",
       " Name: 108661, dtype: object]"
      ]
     },
     "execution_count": 32,
     "metadata": {},
     "output_type": "execute_result"
    }
   ],
   "source": [
    "# Show speakers with speeches longer than k\n",
    "k = 12000\n",
    "[df.loc[i] for i in range(len(num_words)) if num_words[i] > k]\n"
   ]
  },
  {
   "cell_type": "code",
   "execution_count": 33,
   "metadata": {},
   "outputs": [],
   "source": [
    "# Count speeches per speaker\n",
    "num_speeches = []\n",
    "for i in range(len(unique_speakers)):\n",
    "    num_speeches.append(len(df[df['speakername'] == unique_speakers[i]]['speechtext']))\n"
   ]
  },
  {
   "cell_type": "code",
   "execution_count": 37,
   "metadata": {},
   "outputs": [
    {
     "data": {
      "text/plain": [
       "(array([  0., 100., 200., 300., 400.]), <a list of 5 Text yticklabel objects>)"
      ]
     },
     "execution_count": 37,
     "metadata": {},
     "output_type": "execute_result"
    },
    {
     "data": {
      "image/png": "[encoded data removed]",
      "text/plain": [
       "<Figure size 432x288 with 1 Axes>"
      ]
     },
     "metadata": {
      "needs_background": "light"
     },
     "output_type": "display_data"
    }
   ],
   "source": [
    "# Plot histogram showing number of times speakers speak\n",
    "plt.hist(num_speeches, edgecolor='black', color='grey', bins=[0, 500, 1000, 1500, 2000, 2500, 3000, 3500, 4500, 5000, 5500, 6000, 6500, 7000, 7500, 8000])\n",
    "plt.xlabel('Number of speeches', fontsize=fontsize_minor, fontname=fontname)\n",
    "plt.ylabel('Number of speakers', fontsize=fontsize_minor, fontname=fontname)\n",
    "plt.title('How often do speakers speak?', fontsize=fontsize_major, fontname=fontname)\n",
    "plt.tick_params(axis='both', which='major', labelsize=fontsize_minor)\n",
    "plt.xticks(fontname=fontname)\n",
    "plt.yticks(fontname=fontname)\n"
   ]
  },
  {
   "cell_type": "code",
   "execution_count": 35,
   "metadata": {},
   "outputs": [
    {
     "data": {
      "text/plain": [
       "['Kevin Lamoureux',\n",
       " 'Bruce Stanton',\n",
       " 'Geoff Regan',\n",
       " 'Justin Trudeau',\n",
       " 'Carol Hughes',\n",
       " 'Anthony Rota']"
      ]
     },
     "execution_count": 35,
     "metadata": {},
     "output_type": "execute_result"
    }
   ],
   "source": [
    "# Show speakers who have spoken more than k times\n",
    "k = 2000\n",
    "[unique_speakers[i] for i in range(len(num_speeches)) if num_speeches[i] > k]\n"
   ]
  },
  {
   "cell_type": "code",
   "execution_count": 36,
   "metadata": {},
   "outputs": [
    {
     "data": {
      "text/plain": [
       "7563"
      ]
     },
     "execution_count": 36,
     "metadata": {},
     "output_type": "execute_result"
    }
   ],
   "source": [
    "# Show number of times that a specific speaker has spoken\n",
    "specific_speaker = 'Geoff Regan'\n",
    "num_speeches[unique_speakers.index(specific_speaker)]\n"
   ]
  },
  {
   "cell_type": "markdown",
   "metadata": {},
   "source": [
    "Makes sense that Geoff Regan (speaker of the house) has given plenty of speeches."
   ]
  },
  {
   "cell_type": "markdown",
   "metadata": {},
   "source": [
    "After inspecting a few ambiguous names manually, seems possible to automate the process going forward.\n",
    "e.g. When a name is ambiguous (for example, Mr. Miller), look for parantheses containing a riding and cross-reference against the speakerriding column for Marc Miller and Larry Miller"
   ]
  }
 ],
 "metadata": {
  "kernelspec": {
   "display_name": "Python 3",
   "language": "python",
   "name": "python3"
  },
  "language_info": {
   "codemirror_mode": {
    "name": "ipython",
    "version": 3
   },
   "file_extension": ".py",
   "mimetype": "text/x-python",
   "name": "python",
   "nbconvert_exporter": "python",
   "pygments_lexer": "ipython3",
   "version": "3.6.9"
  }
 },
 "nbformat": 4,
 "nbformat_minor": 2
}
