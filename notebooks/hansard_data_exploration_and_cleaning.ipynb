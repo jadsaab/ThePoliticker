{
 "cells": [
  {
   "cell_type": "markdown",
   "metadata": {},
   "source": [
    "# Hansard Data Exploration and Cleaning"
   ]
  },
  {
   "cell_type": "markdown",
   "metadata": {},
   "source": [
    "This notebook explores a subset of the Canadian Hansard parliamentary debate dataset available at https://www.lipad.ca/data/. The pandas dataframe contains combines CSV transcripts of Parliamentary sessions from January 2016 to June 2019, roughly the period following the last federal election."
   ]
  },
  {
   "cell_type": "code",
   "execution_count": null,
   "metadata": {},
   "outputs": [],
   "source": [
    "# Import modules\n",
    "import pandas as pd\n",
    "import numpy as np\n",
    "from gensim.summarization.summarizer import summarize\n",
    "import matplotlib.pyplot as plt\n",
    "import re, math\n",
    "from collections import Counter\n",
    "import itertools"
   ]
  },
  {
   "cell_type": "code",
   "execution_count": null,
   "metadata": {},
   "outputs": [],
   "source": [
    "# Load the data\n",
    "df_original = pd.read_pickle('../../data/hansard.pkl') # Version to keep as-is for later use\n",
    "df = pd.read_pickle('../../data/hansard.pkl') # Version to be cleaned\n"
   ]
  },
  {
   "cell_type": "code",
   "execution_count": null,
   "metadata": {},
   "outputs": [],
   "source": [
    "# Inspect available columns\n",
    "df.head(3)"
   ]
  },
  {
   "cell_type": "code",
   "execution_count": null,
   "metadata": {},
   "outputs": [],
   "source": [
    "# In the first few rows, all subtopics appear as NaN. Check if this is still the case later in the debate.\n",
    "df.loc[110:112, :]"
   ]
  },
  {
   "cell_type": "code",
   "execution_count": null,
   "metadata": {},
   "outputs": [],
   "source": [
    "# Define functions for inspecting speakers\n",
    "\n",
    "def get_num_unique_speakers():\n",
    "    speakers = df['speakername'].unique()\n",
    "    print('Number of unique speakers: %s' %len(speakers))\n",
    "\n",
    "def inspect_row(row_num):\n",
    "    for row in row_num:\n",
    "        print('\\nInspecting row %d:\\n%s\\n' % (row, df_original.loc[row, :]))\n",
    "\n",
    "def inspect_speaker(speaker):\n",
    "    matches = df['speakername'].str.contains(speaker, regex=True)\n",
    "    print('\\nInspecting speaker %s:\\n%s\\n' % (speaker, df.loc[matches[matches].index, :]))\n",
    "\n",
    "def show_names_containing(name):\n",
    "    matches = df['speakername'].str.contains(name, regex=True)\n",
    "    print('\\nUnique occurences of %s:\\n%s\\n' % (name, df['speakername'][matches[matches].index].unique()))\n",
    "    \n",
    "def overwrite_speaker(old_name, new_name, row_to_check):\n",
    "    df['speakername'] = df['speakername'].replace('^'+old_name, new_name, regex=True)\n",
    "    for row in row_to_check:\n",
    "        print('Row after overwriting %s with %s:\\n%s\\n' % (old_name, new_name, df.loc[row,:]))\n",
    "    \n",
    "def get_key_from_value(dictionary, val): \n",
    "    all_keys = []\n",
    "    for key, value in standalone_names_dict.items(): \n",
    "         if val == value: \n",
    "             all_keys.append(key) \n",
    "    return all_keys\n",
    "\n",
    "def replace_string(target, replacement):\n",
    "    df['speakername'] = df['speakername'].replace('\\s+\\(.+\\)*', '', regex=True) \n"
   ]
  },
  {
   "cell_type": "code",
   "execution_count": null,
   "metadata": {},
   "outputs": [],
   "source": [
    "# How many unique speakers spoke during the debates?\n",
    "get_num_unique_speakers()\n",
    "\n",
    "# Overwrite NaNs with spaces\n",
    "df['speakername'].fillna(' ', inplace=True)\n",
    "\n",
    "# Remove all information in speakername column that is not first or last name\n",
    "text_to_remove = ['^Hon.', 'Mr. ', 'Mrs. ', 'Ms. ', 'Miss. ', '\\s+\\(.+\\)', '^\\s+']\n",
    "df['speakername'] = df['speakername'].replace(text_to_remove, '', regex=True)\n",
    "\n",
    "# Remove additional anomalies\n",
    "df['speakername'] = df['speakername'].replace('\\s+\\(.+\\)*', '', regex=True) # Parantheses containing a speaker's riding and/or party\n",
    "df['speakername'] = df['speakername'].replace('The ', '', regex=True) # \n",
    "df['speakername'] = df['speakername'].replace('Speaker Speaker', 'Speaker', regex=True)\n",
    "df['speakername'] = df['speakername'].replace(['Soem', 'Som', 'Somee+'], 'Some', regex=True) # Typos in transcription of 'some'\n",
    "df['speakername'] = df['speakername'].replace('Hon\\s', 'Hon.', regex=True)\n",
    "df['speakername'] = df['speakername'].replace('hon\\s', 'hon.', regex=True)\n",
    "df['speakername'] = df['speakername'].replace('An hon. members', 'An hon. member', regex=True)\n",
    "df['speakername'] = df['speakername'].replace('^members$', 'Members', regex=True)\n",
    "\n",
    "# After additional cleaning, how many unique speakers spoke during the debates?\n",
    "get_num_unique_speakers()\n",
    "\n",
    "# Check for rows that contain only one name\n",
    "is_single_word = df['speakername'].str.contains('^\\w[\\w]*$', regex=True)\n",
    "is_not_speaker = ~df['speakername'].str.contains('^Speaker$', regex=True)\n",
    "is_not_members = ~df['speakername'].str.contains('^Members$', regex=True)\n",
    "bool_ind = is_single_word & is_not_speaker & is_not_members\n",
    "standalone_names = df[\"speakername\"][bool_ind[bool_ind].index]\n",
    "print('Speakers with only one name listed (i.e. ambiguous cases):\\n%s'% standalone_names)\n",
    "\n",
    "# Store standalone names in python dict\n",
    "standalone_names_dict = standalone_names.to_dict()\n"
   ]
  },
  {
   "cell_type": "code",
   "execution_count": null,
   "metadata": {},
   "outputs": [],
   "source": [
    "# Inspect row with standalone 'Miller' in original dataframe\n",
    "key = get_key_from_value(standalone_names_dict, 'Miller')\n",
    "inspect_row(key)\n"
   ]
  },
  {
   "cell_type": "code",
   "execution_count": null,
   "metadata": {},
   "outputs": [],
   "source": [
    "# Show all related names\n",
    "show_names_containing('Miller')\n"
   ]
  },
  {
   "cell_type": "code",
   "execution_count": null,
   "metadata": {},
   "outputs": [],
   "source": [
    "# Raw data shows standalone Miller's riding is Bruce-Grey-Owen-Sound - cross-reference with other Millers\n",
    "# Check entries for Larry Miller\n",
    "inspect_speaker('Larry Miller')\n"
   ]
  },
  {
   "cell_type": "code",
   "execution_count": null,
   "metadata": {},
   "outputs": [],
   "source": [
    "# Larry Miller's riding is Bruce-Grey-Owen-Sound, same as standalone Miller\n",
    "overwrite_speaker('Miller', 'Larry Miller', key)\n"
   ]
  },
  {
   "cell_type": "code",
   "execution_count": null,
   "metadata": {},
   "outputs": [],
   "source": [
    "# Inspect row with standalone 'Warkentin' in original dataframe\n",
    "key = get_key_from_value(standalone_names_dict, 'Warkentin')\n",
    "inspect_row(key)\n"
   ]
  },
  {
   "cell_type": "code",
   "execution_count": null,
   "metadata": {},
   "outputs": [],
   "source": [
    "# Show all related names\n",
    "show_names_containing('Warkentin')\n"
   ]
  },
  {
   "cell_type": "code",
   "execution_count": null,
   "metadata": {},
   "outputs": [],
   "source": [
    "# Check entries for Chris Warkentin\n",
    "inspect_speaker('Chris Warkentin')\n"
   ]
  },
  {
   "cell_type": "code",
   "execution_count": null,
   "metadata": {},
   "outputs": [],
   "source": [
    "# Standalone Warkentin seems to be Chris Warkentin\n",
    "overwrite_speaker('Warkentin', 'Chris Warkentin', key)\n"
   ]
  },
  {
   "cell_type": "code",
   "execution_count": null,
   "metadata": {},
   "outputs": [],
   "source": [
    "# Inspect row with standalone 'MacKenzie' in original dataframe\n",
    "key = get_key_from_value(standalone_names_dict, 'MacKenzie')\n",
    "inspect_row(key)\n"
   ]
  },
  {
   "cell_type": "code",
   "execution_count": null,
   "metadata": {},
   "outputs": [],
   "source": [
    "# Show all related names\n",
    "show_names_containing('MacKenzie')\n"
   ]
  },
  {
   "cell_type": "code",
   "execution_count": null,
   "metadata": {},
   "outputs": [],
   "source": [
    "# Check entries for Dave MacKenzie\n",
    "inspect_speaker('Dave MacKenzie')\n"
   ]
  },
  {
   "cell_type": "code",
   "execution_count": null,
   "metadata": {},
   "outputs": [],
   "source": [
    "# Riding (Oxford) overlaps\n",
    "# Standalone MacKenzie seems to be Dave MacKenzie\n",
    "overwrite_speaker('MacKenzie', 'Dave MacKenzie', key)\n"
   ]
  },
  {
   "cell_type": "code",
   "execution_count": null,
   "metadata": {},
   "outputs": [],
   "source": [
    "# Inspect row with standalone 'Eglinski' in original dataframe\n",
    "key = get_key_from_value(standalone_names_dict, 'Eglinski')\n",
    "inspect_row(key)\n"
   ]
  },
  {
   "cell_type": "code",
   "execution_count": null,
   "metadata": {},
   "outputs": [],
   "source": [
    "# Show all related names\n",
    "show_names_containing('Eglinski')\n"
   ]
  },
  {
   "cell_type": "code",
   "execution_count": null,
   "metadata": {},
   "outputs": [],
   "source": [
    "# Check entries for Jim Eglinski\n",
    "inspect_speaker('Jim Eglinski')\n"
   ]
  },
  {
   "cell_type": "code",
   "execution_count": null,
   "metadata": {},
   "outputs": [],
   "source": [
    "# Riding (Yellowhead) overlaps\n",
    "# Standalone Eglinski seems to be Jim Eglinski\n",
    "overwrite_speaker('Eglinski', 'Jim Eglinski', key)\n"
   ]
  },
  {
   "cell_type": "code",
   "execution_count": null,
   "metadata": {},
   "outputs": [],
   "source": [
    "# Inspect row with standalone 'McCauley' in original dataframe\n",
    "key = get_key_from_value(standalone_names_dict, 'McCauley')\n",
    "inspect_row(key)\n"
   ]
  },
  {
   "cell_type": "code",
   "execution_count": null,
   "metadata": {},
   "outputs": [],
   "source": [
    "# Show all related names\n",
    "show_names_containing('McCauley')\n"
   ]
  },
  {
   "cell_type": "code",
   "execution_count": null,
   "metadata": {},
   "outputs": [],
   "source": [
    "# Check entries for Kelly McCauley\n",
    "inspect_speaker('Kelly McCauley')\n"
   ]
  },
  {
   "cell_type": "code",
   "execution_count": null,
   "metadata": {},
   "outputs": [],
   "source": [
    "# Riding (Edmonston West) overlaps\n",
    "# Standalone McCauley seems to be Kelly McCauley\n",
    "overwrite_speaker('McCauley', 'Kelly McCauley', key)\n"
   ]
  },
  {
   "cell_type": "code",
   "execution_count": null,
   "metadata": {},
   "outputs": [],
   "source": [
    "# Save to pkl file\n",
    "df.to_pickle('../../data/hansard_cleaned.pkl')"
   ]
  },
  {
   "cell_type": "code",
   "execution_count": null,
   "metadata": {},
   "outputs": [],
   "source": []
  }
 ],
 "metadata": {
  "kernelspec": {
   "display_name": "Python 3",
   "language": "python",
   "name": "python3"
  },
  "language_info": {
   "codemirror_mode": {
    "name": "ipython",
    "version": 3
   },
   "file_extension": ".py",
   "mimetype": "text/x-python",
   "name": "python",
   "nbconvert_exporter": "python",
   "pygments_lexer": "ipython3",
   "version": "3.6.9"
  }
 },
 "nbformat": 4,
 "nbformat_minor": 2
}
